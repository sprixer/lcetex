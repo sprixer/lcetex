{
  "cells": [
    {
      "cell_type": "code",
      "execution_count": 1,
      "id": "944f5cd7",
      "metadata": {
        "id": "944f5cd7"
      },
      "outputs": [],
      "source": [
        "import pandas as pd"
      ]
    },
    {
      "cell_type": "code",
      "execution_count": 2,
      "id": "042810f9",
      "metadata": {
        "id": "042810f9"
      },
      "outputs": [],
      "source": [
        "df = pd.read_excel('ICETEX 2.xlsx')"
      ]
    },
    {
      "cell_type": "code",
      "execution_count": 3,
      "id": "e826fb85",
      "metadata": {
        "colab": {
          "base_uri": "https://localhost:8080/",
          "height": 206
        },
        "id": "e826fb85",
        "outputId": "b92dec23-67ac-43a3-bc76-38d137be2d1c"
      },
      "outputs": [
        {
          "data": {
            "text/html": [
              "\n",
              "  <div id=\"df-4a423a0f-5fdc-40bf-8531-5fc987c0d91c\">\n",
              "    <div class=\"colab-df-container\">\n",
              "      <div>\n",
              "<style scoped>\n",
              "    .dataframe tbody tr th:only-of-type {\n",
              "        vertical-align: middle;\n",
              "    }\n",
              "\n",
              "    .dataframe tbody tr th {\n",
              "        vertical-align: top;\n",
              "    }\n",
              "\n",
              "    .dataframe thead th {\n",
              "        text-align: right;\n",
              "    }\n",
              "</style>\n",
              "<table border=\"1\" class=\"dataframe\">\n",
              "  <thead>\n",
              "    <tr style=\"text-align: right;\">\n",
              "      <th></th>\n",
              "      <th>PROGRAMA</th>\n",
              "      <th>LINEA DE CREDITO</th>\n",
              "      <th>SEMESTRE</th>\n",
              "      <th>PROMEDIO</th>\n",
              "      <th>APRUEBA</th>\n",
              "    </tr>\n",
              "  </thead>\n",
              "  <tbody>\n",
              "    <tr>\n",
              "      <th>0</th>\n",
              "      <td>PSICOLOGIA</td>\n",
              "      <td>TU ELIGES 0%</td>\n",
              "      <td>6.0</td>\n",
              "      <td>4.11</td>\n",
              "      <td>SI</td>\n",
              "    </tr>\n",
              "    <tr>\n",
              "      <th>1</th>\n",
              "      <td>DERECHO</td>\n",
              "      <td>TU ELIGES 0%</td>\n",
              "      <td>7.0</td>\n",
              "      <td>3.82</td>\n",
              "      <td>SI</td>\n",
              "    </tr>\n",
              "    <tr>\n",
              "      <th>2</th>\n",
              "      <td>CONTADURIA PUBLICA</td>\n",
              "      <td>TU ELIGES 0%</td>\n",
              "      <td>6.0</td>\n",
              "      <td>4.2</td>\n",
              "      <td>SI</td>\n",
              "    </tr>\n",
              "    <tr>\n",
              "      <th>3</th>\n",
              "      <td>PSICOLOGIA</td>\n",
              "      <td>TU ELIGES 0%</td>\n",
              "      <td>5.0</td>\n",
              "      <td>3.74</td>\n",
              "      <td>SI</td>\n",
              "    </tr>\n",
              "    <tr>\n",
              "      <th>4</th>\n",
              "      <td>INGENIERIA DE SISTEMAS</td>\n",
              "      <td>TU ELIGES 0%</td>\n",
              "      <td>2.0</td>\n",
              "      <td>3.72</td>\n",
              "      <td>SI</td>\n",
              "    </tr>\n",
              "  </tbody>\n",
              "</table>\n",
              "</div>\n",
              "      <button class=\"colab-df-convert\" onclick=\"convertToInteractive('df-4a423a0f-5fdc-40bf-8531-5fc987c0d91c')\"\n",
              "              title=\"Convert this dataframe to an interactive table.\"\n",
              "              style=\"display:none;\">\n",
              "        \n",
              "  <svg xmlns=\"http://www.w3.org/2000/svg\" height=\"24px\"viewBox=\"0 0 24 24\"\n",
              "       width=\"24px\">\n",
              "    <path d=\"M0 0h24v24H0V0z\" fill=\"none\"/>\n",
              "    <path d=\"M18.56 5.44l.94 2.06.94-2.06 2.06-.94-2.06-.94-.94-2.06-.94 2.06-2.06.94zm-11 1L8.5 8.5l.94-2.06 2.06-.94-2.06-.94L8.5 2.5l-.94 2.06-2.06.94zm10 10l.94 2.06.94-2.06 2.06-.94-2.06-.94-.94-2.06-.94 2.06-2.06.94z\"/><path d=\"M17.41 7.96l-1.37-1.37c-.4-.4-.92-.59-1.43-.59-.52 0-1.04.2-1.43.59L10.3 9.45l-7.72 7.72c-.78.78-.78 2.05 0 2.83L4 21.41c.39.39.9.59 1.41.59.51 0 1.02-.2 1.41-.59l7.78-7.78 2.81-2.81c.8-.78.8-2.07 0-2.86zM5.41 20L4 18.59l7.72-7.72 1.47 1.35L5.41 20z\"/>\n",
              "  </svg>\n",
              "      </button>\n",
              "      \n",
              "  <style>\n",
              "    .colab-df-container {\n",
              "      display:flex;\n",
              "      flex-wrap:wrap;\n",
              "      gap: 12px;\n",
              "    }\n",
              "\n",
              "    .colab-df-convert {\n",
              "      background-color: #E8F0FE;\n",
              "      border: none;\n",
              "      border-radius: 50%;\n",
              "      cursor: pointer;\n",
              "      display: none;\n",
              "      fill: #1967D2;\n",
              "      height: 32px;\n",
              "      padding: 0 0 0 0;\n",
              "      width: 32px;\n",
              "    }\n",
              "\n",
              "    .colab-df-convert:hover {\n",
              "      background-color: #E2EBFA;\n",
              "      box-shadow: 0px 1px 2px rgba(60, 64, 67, 0.3), 0px 1px 3px 1px rgba(60, 64, 67, 0.15);\n",
              "      fill: #174EA6;\n",
              "    }\n",
              "\n",
              "    [theme=dark] .colab-df-convert {\n",
              "      background-color: #3B4455;\n",
              "      fill: #D2E3FC;\n",
              "    }\n",
              "\n",
              "    [theme=dark] .colab-df-convert:hover {\n",
              "      background-color: #434B5C;\n",
              "      box-shadow: 0px 1px 3px 1px rgba(0, 0, 0, 0.15);\n",
              "      filter: drop-shadow(0px 1px 2px rgba(0, 0, 0, 0.3));\n",
              "      fill: #FFFFFF;\n",
              "    }\n",
              "  </style>\n",
              "\n",
              "      <script>\n",
              "        const buttonEl =\n",
              "          document.querySelector('#df-4a423a0f-5fdc-40bf-8531-5fc987c0d91c button.colab-df-convert');\n",
              "        buttonEl.style.display =\n",
              "          google.colab.kernel.accessAllowed ? 'block' : 'none';\n",
              "\n",
              "        async function convertToInteractive(key) {\n",
              "          const element = document.querySelector('#df-4a423a0f-5fdc-40bf-8531-5fc987c0d91c');\n",
              "          const dataTable =\n",
              "            await google.colab.kernel.invokeFunction('convertToInteractive',\n",
              "                                                     [key], {});\n",
              "          if (!dataTable) return;\n",
              "\n",
              "          const docLinkHtml = 'Like what you see? Visit the ' +\n",
              "            '<a target=\"_blank\" href=https://colab.research.google.com/notebooks/data_table.ipynb>data table notebook</a>'\n",
              "            + ' to learn more about interactive tables.';\n",
              "          element.innerHTML = '';\n",
              "          dataTable['output_type'] = 'display_data';\n",
              "          await google.colab.output.renderOutput(dataTable, element);\n",
              "          const docLink = document.createElement('div');\n",
              "          docLink.innerHTML = docLinkHtml;\n",
              "          element.appendChild(docLink);\n",
              "        }\n",
              "      </script>\n",
              "    </div>\n",
              "  </div>\n",
              "  "
            ],
            "text/plain": [
              "                 PROGRAMA LINEA DE CREDITO  SEMESTRE PROMEDIO APRUEBA\n",
              "0              PSICOLOGIA     TU ELIGES 0%       6.0     4.11      SI\n",
              "1                 DERECHO     TU ELIGES 0%       7.0     3.82      SI\n",
              "2      CONTADURIA PUBLICA     TU ELIGES 0%       6.0      4.2      SI\n",
              "3              PSICOLOGIA     TU ELIGES 0%       5.0     3.74      SI\n",
              "4  INGENIERIA DE SISTEMAS     TU ELIGES 0%       2.0     3.72      SI"
            ]
          },
          "execution_count": 3,
          "metadata": {},
          "output_type": "execute_result"
        }
      ],
      "source": [
        "df.head(5)"
      ]
    },
    {
      "cell_type": "code",
      "execution_count": 4,
      "id": "ba8202f4",
      "metadata": {
        "colab": {
          "base_uri": "https://localhost:8080/"
        },
        "id": "ba8202f4",
        "outputId": "72e0d5b7-4711-4fef-a127-51f00235afc5"
      },
      "outputs": [
        {
          "data": {
            "text/plain": [
              "Index(['PROGRAMA', 'LINEA DE CREDITO', 'SEMESTRE', 'PROMEDIO', 'APRUEBA'], dtype='object')"
            ]
          },
          "execution_count": 4,
          "metadata": {},
          "output_type": "execute_result"
        }
      ],
      "source": [
        "df.columns"
      ]
    },
    {
      "cell_type": "code",
      "execution_count": 5,
      "id": "d534fa5f",
      "metadata": {
        "id": "d534fa5f"
      },
      "outputs": [],
      "source": [
        "df.drop(columns=['LINEA DE CREDITO'], inplace=True)"
      ]
    },
    {
      "cell_type": "code",
      "execution_count": 6,
      "id": "c2ad8288",
      "metadata": {
        "colab": {
          "base_uri": "https://localhost:8080/"
        },
        "id": "c2ad8288",
        "outputId": "b626376c-4f8c-465d-fc0e-5b1ef9e31193"
      },
      "outputs": [
        {
          "data": {
            "text/plain": [
              "PROGRAMA    0\n",
              "SEMESTRE    1\n",
              "PROMEDIO    1\n",
              "APRUEBA     0\n",
              "dtype: int64"
            ]
          },
          "execution_count": 6,
          "metadata": {},
          "output_type": "execute_result"
        }
      ],
      "source": [
        "df.isnull().sum(axis=0)"
      ]
    },
    {
      "cell_type": "code",
      "execution_count": 7,
      "id": "86d4c68a",
      "metadata": {
        "colab": {
          "base_uri": "https://localhost:8080/"
        },
        "id": "86d4c68a",
        "outputId": "85e95243-328b-45c9-829d-a75bf1ce3edd"
      },
      "outputs": [
        {
          "data": {
            "text/plain": [
              "(675, 4)"
            ]
          },
          "execution_count": 7,
          "metadata": {},
          "output_type": "execute_result"
        }
      ],
      "source": [
        "df.shape"
      ]
    },
    {
      "cell_type": "code",
      "execution_count": 8,
      "id": "0ffc0b84",
      "metadata": {
        "id": "0ffc0b84"
      },
      "outputs": [],
      "source": [
        "df.dropna(axis=0, inplace=True)"
      ]
    },
    {
      "cell_type": "code",
      "execution_count": 9,
      "id": "bf5fb39a",
      "metadata": {
        "colab": {
          "base_uri": "https://localhost:8080/"
        },
        "id": "bf5fb39a",
        "outputId": "35569a4e-4319-4af8-9d7f-7336ea795855",
        "scrolled": true
      },
      "outputs": [
        {
          "data": {
            "text/plain": [
              "(673, 4)"
            ]
          },
          "execution_count": 9,
          "metadata": {},
          "output_type": "execute_result"
        }
      ],
      "source": [
        "df.shape\n"
      ]
    },
    {
      "cell_type": "code",
      "execution_count": 10,
      "id": "7f3b6dc3",
      "metadata": {
        "colab": {
          "base_uri": "https://localhost:8080/",
          "height": 423
        },
        "id": "7f3b6dc3",
        "outputId": "65500e04-3220-4569-ae6a-b31ef06ee75f",
        "scrolled": true
      },
      "outputs": [
        {
          "data": {
            "text/html": [
              "\n",
              "  <div id=\"df-9725ab34-d714-4bb4-bd71-f69981b0d1c1\">\n",
              "    <div class=\"colab-df-container\">\n",
              "      <div>\n",
              "<style scoped>\n",
              "    .dataframe tbody tr th:only-of-type {\n",
              "        vertical-align: middle;\n",
              "    }\n",
              "\n",
              "    .dataframe tbody tr th {\n",
              "        vertical-align: top;\n",
              "    }\n",
              "\n",
              "    .dataframe thead th {\n",
              "        text-align: right;\n",
              "    }\n",
              "</style>\n",
              "<table border=\"1\" class=\"dataframe\">\n",
              "  <thead>\n",
              "    <tr style=\"text-align: right;\">\n",
              "      <th></th>\n",
              "      <th>PROGRAMA</th>\n",
              "      <th>SEMESTRE</th>\n",
              "      <th>PROMEDIO</th>\n",
              "      <th>APRUEBA</th>\n",
              "    </tr>\n",
              "  </thead>\n",
              "  <tbody>\n",
              "    <tr>\n",
              "      <th>0</th>\n",
              "      <td>PSICOLOGIA</td>\n",
              "      <td>6.0</td>\n",
              "      <td>4.11</td>\n",
              "      <td>SI</td>\n",
              "    </tr>\n",
              "    <tr>\n",
              "      <th>1</th>\n",
              "      <td>DERECHO</td>\n",
              "      <td>7.0</td>\n",
              "      <td>3.82</td>\n",
              "      <td>SI</td>\n",
              "    </tr>\n",
              "    <tr>\n",
              "      <th>2</th>\n",
              "      <td>CONTADURIA PUBLICA</td>\n",
              "      <td>6.0</td>\n",
              "      <td>4.2</td>\n",
              "      <td>SI</td>\n",
              "    </tr>\n",
              "    <tr>\n",
              "      <th>3</th>\n",
              "      <td>PSICOLOGIA</td>\n",
              "      <td>5.0</td>\n",
              "      <td>3.74</td>\n",
              "      <td>SI</td>\n",
              "    </tr>\n",
              "    <tr>\n",
              "      <th>4</th>\n",
              "      <td>INGENIERIA DE SISTEMAS</td>\n",
              "      <td>2.0</td>\n",
              "      <td>3.72</td>\n",
              "      <td>SI</td>\n",
              "    </tr>\n",
              "    <tr>\n",
              "      <th>...</th>\n",
              "      <td>...</td>\n",
              "      <td>...</td>\n",
              "      <td>...</td>\n",
              "      <td>...</td>\n",
              "    </tr>\n",
              "    <tr>\n",
              "      <th>670</th>\n",
              "      <td>ADMINISTRACION DE EMPRESAS</td>\n",
              "      <td>4.0</td>\n",
              "      <td>2.33</td>\n",
              "      <td>NO</td>\n",
              "    </tr>\n",
              "    <tr>\n",
              "      <th>671</th>\n",
              "      <td>DERECHO</td>\n",
              "      <td>10.0</td>\n",
              "      <td>2.18</td>\n",
              "      <td>NO</td>\n",
              "    </tr>\n",
              "    <tr>\n",
              "      <th>672</th>\n",
              "      <td>CONTADURIA PUBLICA</td>\n",
              "      <td>1.0</td>\n",
              "      <td>0.13</td>\n",
              "      <td>NO</td>\n",
              "    </tr>\n",
              "    <tr>\n",
              "      <th>673</th>\n",
              "      <td>DERECHO</td>\n",
              "      <td>1.0</td>\n",
              "      <td>2.7</td>\n",
              "      <td>NO</td>\n",
              "    </tr>\n",
              "    <tr>\n",
              "      <th>674</th>\n",
              "      <td>PSICOLOGÍA</td>\n",
              "      <td>6.0</td>\n",
              "      <td>2.86</td>\n",
              "      <td>NO</td>\n",
              "    </tr>\n",
              "  </tbody>\n",
              "</table>\n",
              "<p>673 rows × 4 columns</p>\n",
              "</div>\n",
              "      <button class=\"colab-df-convert\" onclick=\"convertToInteractive('df-9725ab34-d714-4bb4-bd71-f69981b0d1c1')\"\n",
              "              title=\"Convert this dataframe to an interactive table.\"\n",
              "              style=\"display:none;\">\n",
              "        \n",
              "  <svg xmlns=\"http://www.w3.org/2000/svg\" height=\"24px\"viewBox=\"0 0 24 24\"\n",
              "       width=\"24px\">\n",
              "    <path d=\"M0 0h24v24H0V0z\" fill=\"none\"/>\n",
              "    <path d=\"M18.56 5.44l.94 2.06.94-2.06 2.06-.94-2.06-.94-.94-2.06-.94 2.06-2.06.94zm-11 1L8.5 8.5l.94-2.06 2.06-.94-2.06-.94L8.5 2.5l-.94 2.06-2.06.94zm10 10l.94 2.06.94-2.06 2.06-.94-2.06-.94-.94-2.06-.94 2.06-2.06.94z\"/><path d=\"M17.41 7.96l-1.37-1.37c-.4-.4-.92-.59-1.43-.59-.52 0-1.04.2-1.43.59L10.3 9.45l-7.72 7.72c-.78.78-.78 2.05 0 2.83L4 21.41c.39.39.9.59 1.41.59.51 0 1.02-.2 1.41-.59l7.78-7.78 2.81-2.81c.8-.78.8-2.07 0-2.86zM5.41 20L4 18.59l7.72-7.72 1.47 1.35L5.41 20z\"/>\n",
              "  </svg>\n",
              "      </button>\n",
              "      \n",
              "  <style>\n",
              "    .colab-df-container {\n",
              "      display:flex;\n",
              "      flex-wrap:wrap;\n",
              "      gap: 12px;\n",
              "    }\n",
              "\n",
              "    .colab-df-convert {\n",
              "      background-color: #E8F0FE;\n",
              "      border: none;\n",
              "      border-radius: 50%;\n",
              "      cursor: pointer;\n",
              "      display: none;\n",
              "      fill: #1967D2;\n",
              "      height: 32px;\n",
              "      padding: 0 0 0 0;\n",
              "      width: 32px;\n",
              "    }\n",
              "\n",
              "    .colab-df-convert:hover {\n",
              "      background-color: #E2EBFA;\n",
              "      box-shadow: 0px 1px 2px rgba(60, 64, 67, 0.3), 0px 1px 3px 1px rgba(60, 64, 67, 0.15);\n",
              "      fill: #174EA6;\n",
              "    }\n",
              "\n",
              "    [theme=dark] .colab-df-convert {\n",
              "      background-color: #3B4455;\n",
              "      fill: #D2E3FC;\n",
              "    }\n",
              "\n",
              "    [theme=dark] .colab-df-convert:hover {\n",
              "      background-color: #434B5C;\n",
              "      box-shadow: 0px 1px 3px 1px rgba(0, 0, 0, 0.15);\n",
              "      filter: drop-shadow(0px 1px 2px rgba(0, 0, 0, 0.3));\n",
              "      fill: #FFFFFF;\n",
              "    }\n",
              "  </style>\n",
              "\n",
              "      <script>\n",
              "        const buttonEl =\n",
              "          document.querySelector('#df-9725ab34-d714-4bb4-bd71-f69981b0d1c1 button.colab-df-convert');\n",
              "        buttonEl.style.display =\n",
              "          google.colab.kernel.accessAllowed ? 'block' : 'none';\n",
              "\n",
              "        async function convertToInteractive(key) {\n",
              "          const element = document.querySelector('#df-9725ab34-d714-4bb4-bd71-f69981b0d1c1');\n",
              "          const dataTable =\n",
              "            await google.colab.kernel.invokeFunction('convertToInteractive',\n",
              "                                                     [key], {});\n",
              "          if (!dataTable) return;\n",
              "\n",
              "          const docLinkHtml = 'Like what you see? Visit the ' +\n",
              "            '<a target=\"_blank\" href=https://colab.research.google.com/notebooks/data_table.ipynb>data table notebook</a>'\n",
              "            + ' to learn more about interactive tables.';\n",
              "          element.innerHTML = '';\n",
              "          dataTable['output_type'] = 'display_data';\n",
              "          await google.colab.output.renderOutput(dataTable, element);\n",
              "          const docLink = document.createElement('div');\n",
              "          docLink.innerHTML = docLinkHtml;\n",
              "          element.appendChild(docLink);\n",
              "        }\n",
              "      </script>\n",
              "    </div>\n",
              "  </div>\n",
              "  "
            ],
            "text/plain": [
              "                       PROGRAMA  SEMESTRE PROMEDIO APRUEBA\n",
              "0                    PSICOLOGIA       6.0     4.11      SI\n",
              "1                       DERECHO       7.0     3.82      SI\n",
              "2            CONTADURIA PUBLICA       6.0      4.2      SI\n",
              "3                    PSICOLOGIA       5.0     3.74      SI\n",
              "4        INGENIERIA DE SISTEMAS       2.0     3.72      SI\n",
              "..                          ...       ...      ...     ...\n",
              "670  ADMINISTRACION DE EMPRESAS       4.0     2.33      NO\n",
              "671                     DERECHO      10.0     2.18      NO\n",
              "672          CONTADURIA PUBLICA       1.0     0.13      NO\n",
              "673                     DERECHO       1.0      2.7      NO\n",
              "674                  PSICOLOGÍA       6.0     2.86      NO\n",
              "\n",
              "[673 rows x 4 columns]"
            ]
          },
          "execution_count": 10,
          "metadata": {},
          "output_type": "execute_result"
        }
      ],
      "source": [
        "df"
      ]
    },
    {
      "cell_type": "code",
      "execution_count": 11,
      "id": "c9dac5bb",
      "metadata": {
        "colab": {
          "base_uri": "https://localhost:8080/"
        },
        "id": "c9dac5bb",
        "outputId": "2c09b202-9ab1-4e42-d834-4d1d98e6acf8"
      },
      "outputs": [
        {
          "data": {
            "text/plain": [
              "DERECHO                                               156\n",
              "PSICOLOGIA                                            104\n",
              "PSICOLOGÍA                                             71\n",
              "CONTADURIA PUBLICA                                     61\n",
              "INGENIERIA DE SISTEMAS                                 59\n",
              "FISIOTERAPIA                                           52\n",
              "ADMINISTRACION DE EMPRESAS                             37\n",
              "CONTADURÍA PÚBLICA                                     36\n",
              "ADMINISTRACION DE NEGOCIOS INTERNACIONALES             16\n",
              "SEGURIDAD Y SALUD EN EL TRABAJO                        14\n",
              "COMUNICACION SOCIAL                                    12\n",
              "TECNOLOGIA EN SEGURIDAD Y SALUD EN EL TRABAJO          12\n",
              "COMUNICACIÓN SOCIAL                                    11\n",
              "ADMINISTRACION DE EMPRESA                               8\n",
              "ADMINISTRACIÓN DE NEGOCIO INTERNACIONALES               8\n",
              "INGENIERIA ELECTRONICA                                  5\n",
              "SALUD OCUPACIONAL                                       3\n",
              "ADMINISTRACION EN SEGURIDAD Y SALUD EN EL TRABAJO       2\n",
              "ESPECIALIZACIÓN EN SEGURIDAD Y SALUD EN EL TRABAJO      1\n",
              "ESPECIALIZACION EN DERECHO PROCESAL                     1\n",
              "ESPECIALIZACIÓN EN DERECHO PENAL                        1\n",
              "DERECCHO                                                1\n",
              "psicologia                                              1\n",
              "TECNOLOGIA EN ELECTRONICA INDUSTRIAL                    1\n",
              "Name: PROGRAMA, dtype: int64"
            ]
          },
          "execution_count": 11,
          "metadata": {},
          "output_type": "execute_result"
        }
      ],
      "source": [
        "df['PROGRAMA'].value_counts()"
      ]
    },
    {
      "cell_type": "code",
      "execution_count": 12,
      "id": "7f2cfb4d",
      "metadata": {
        "id": "7f2cfb4d"
      },
      "outputs": [],
      "source": [
        "#En la columna Programa reemplazamos algunos valores mal escritos por los valores correctos\n",
        "df['PROGRAMA']=df['PROGRAMA'].str.replace('DERECCHO','DERECHO')\n",
        "df['PROGRAMA']=df['PROGRAMA'].str.replace('PSICOLOGÍA','PSICOLOGIA')\n",
        "df['PROGRAMA']=df['PROGRAMA'].str.replace('psicologia','PSICOLOGIA')\n",
        "df['PROGRAMA']=df['PROGRAMA'].str.replace('CONTADURÍA PÚBLICA','CONTADURIA PUBLICA')\n",
        "df['PROGRAMA']=df['PROGRAMA'].str.replace('COMUNICACIÓN SOCIAL','COMUNICACION SOCIAL')\n",
        "df['PROGRAMA']=df['PROGRAMA'].str.replace('ADMINISTRACION DE EMPRESA','ADMINISTRACION DE EMPRESAS')\n",
        "df['PROGRAMA']=df['PROGRAMA'].str.replace('ADMINISTRACIÓN DE NEGOCIO INTERNACIONALES','ADMINISTRACION DE NEGOCIOS INTERNACIONALES')\n",
        "\n"
      ]
    },
    {
      "cell_type": "code",
      "execution_count": 13,
      "id": "d3de4f82",
      "metadata": {
        "colab": {
          "base_uri": "https://localhost:8080/"
        },
        "id": "d3de4f82",
        "outputId": "6c4468f6-ef04-4269-d68d-b9c6874684fb"
      },
      "outputs": [
        {
          "data": {
            "text/plain": [
              "PSICOLOGIA                                            176\n",
              "DERECHO                                               157\n",
              "CONTADURIA PUBLICA                                     97\n",
              "INGENIERIA DE SISTEMAS                                 59\n",
              "FISIOTERAPIA                                           52\n",
              "ADMINISTRACION DE EMPRESASS                            37\n",
              "ADMINISTRACION DE NEGOCIOS INTERNACIONALES             24\n",
              "COMUNICACION SOCIAL                                    23\n",
              "SEGURIDAD Y SALUD EN EL TRABAJO                        14\n",
              "TECNOLOGIA EN SEGURIDAD Y SALUD EN EL TRABAJO          12\n",
              "ADMINISTRACION DE EMPRESAS                              8\n",
              "INGENIERIA ELECTRONICA                                  5\n",
              "SALUD OCUPACIONAL                                       3\n",
              "ADMINISTRACION EN SEGURIDAD Y SALUD EN EL TRABAJO       2\n",
              "ESPECIALIZACIÓN EN SEGURIDAD Y SALUD EN EL TRABAJO      1\n",
              "ESPECIALIZACION EN DERECHO PROCESAL                     1\n",
              "ESPECIALIZACIÓN EN DERECHO PENAL                        1\n",
              "TECNOLOGIA EN ELECTRONICA INDUSTRIAL                    1\n",
              "Name: PROGRAMA, dtype: int64"
            ]
          },
          "execution_count": 13,
          "metadata": {},
          "output_type": "execute_result"
        }
      ],
      "source": [
        "df['PROGRAMA'].value_counts()"
      ]
    },
    {
      "cell_type": "code",
      "execution_count": 14,
      "id": "6082b19c",
      "metadata": {
        "id": "6082b19c"
      },
      "outputs": [],
      "source": [
        "df['PROGRAMA']=df['PROGRAMA'].str.replace('ADMINISTRACION DE EMPRESASS','ADMINISTRACION DE EMPRESAS')"
      ]
    },
    {
      "cell_type": "code",
      "execution_count": 15,
      "id": "474fe443",
      "metadata": {
        "colab": {
          "base_uri": "https://localhost:8080/"
        },
        "id": "474fe443",
        "outputId": "a174069a-5f86-4608-a8d3-8640f32fc20b",
        "scrolled": true
      },
      "outputs": [
        {
          "data": {
            "text/plain": [
              "array(['PSICOLOGIA', 'DERECHO', 'CONTADURIA PUBLICA',\n",
              "       'INGENIERIA DE SISTEMAS', 'COMUNICACION SOCIAL',\n",
              "       'ADMINISTRACION DE NEGOCIOS INTERNACIONALES',\n",
              "       'ESPECIALIZACIÓN EN SEGURIDAD Y SALUD EN EL TRABAJO',\n",
              "       'ADMINISTRACION DE EMPRESAS', 'INGENIERIA ELECTRONICA',\n",
              "       'FISIOTERAPIA', 'ESPECIALIZACION EN DERECHO PROCESAL',\n",
              "       'ESPECIALIZACIÓN EN DERECHO PENAL', 'SALUD OCUPACIONAL',\n",
              "       'SEGURIDAD Y SALUD EN EL TRABAJO',\n",
              "       'TECNOLOGIA EN SEGURIDAD Y SALUD EN EL TRABAJO',\n",
              "       'TECNOLOGIA EN ELECTRONICA INDUSTRIAL',\n",
              "       'ADMINISTRACION EN SEGURIDAD Y SALUD EN EL TRABAJO'], dtype=object)"
            ]
          },
          "execution_count": 15,
          "metadata": {},
          "output_type": "execute_result"
        }
      ],
      "source": [
        "df['PROGRAMA'].unique()"
      ]
    },
    {
      "cell_type": "code",
      "execution_count": 16,
      "id": "b987073c",
      "metadata": {
        "id": "b987073c"
      },
      "outputs": [],
      "source": [
        "from sklearn.preprocessing import OrdinalEncoder\n",
        "ord_enc = OrdinalEncoder()\n",
        "df[\"PROGRAMA\"] = ord_enc.fit_transform(df[[\"PROGRAMA\"]])\n",
        "df[\"APRUEBA\"] = ord_enc.fit_transform(df[[\"APRUEBA\"]])"
      ]
    },
    {
      "cell_type": "code",
      "execution_count": 17,
      "id": "81199f8d",
      "metadata": {
        "colab": {
          "base_uri": "https://localhost:8080/",
          "height": 206
        },
        "id": "81199f8d",
        "outputId": "b13d4de2-4174-4505-a52d-53af44cfc7a9"
      },
      "outputs": [
        {
          "data": {
            "text/html": [
              "\n",
              "  <div id=\"df-8a07d37b-60a8-460f-911c-804b24f265cf\">\n",
              "    <div class=\"colab-df-container\">\n",
              "      <div>\n",
              "<style scoped>\n",
              "    .dataframe tbody tr th:only-of-type {\n",
              "        vertical-align: middle;\n",
              "    }\n",
              "\n",
              "    .dataframe tbody tr th {\n",
              "        vertical-align: top;\n",
              "    }\n",
              "\n",
              "    .dataframe thead th {\n",
              "        text-align: right;\n",
              "    }\n",
              "</style>\n",
              "<table border=\"1\" class=\"dataframe\">\n",
              "  <thead>\n",
              "    <tr style=\"text-align: right;\">\n",
              "      <th></th>\n",
              "      <th>PROGRAMA</th>\n",
              "      <th>SEMESTRE</th>\n",
              "      <th>PROMEDIO</th>\n",
              "      <th>APRUEBA</th>\n",
              "    </tr>\n",
              "  </thead>\n",
              "  <tbody>\n",
              "    <tr>\n",
              "      <th>0</th>\n",
              "      <td>12.0</td>\n",
              "      <td>6.0</td>\n",
              "      <td>4.11</td>\n",
              "      <td>1.0</td>\n",
              "    </tr>\n",
              "    <tr>\n",
              "      <th>1</th>\n",
              "      <td>5.0</td>\n",
              "      <td>7.0</td>\n",
              "      <td>3.82</td>\n",
              "      <td>1.0</td>\n",
              "    </tr>\n",
              "    <tr>\n",
              "      <th>2</th>\n",
              "      <td>4.0</td>\n",
              "      <td>6.0</td>\n",
              "      <td>4.2</td>\n",
              "      <td>1.0</td>\n",
              "    </tr>\n",
              "    <tr>\n",
              "      <th>3</th>\n",
              "      <td>12.0</td>\n",
              "      <td>5.0</td>\n",
              "      <td>3.74</td>\n",
              "      <td>1.0</td>\n",
              "    </tr>\n",
              "    <tr>\n",
              "      <th>4</th>\n",
              "      <td>10.0</td>\n",
              "      <td>2.0</td>\n",
              "      <td>3.72</td>\n",
              "      <td>1.0</td>\n",
              "    </tr>\n",
              "  </tbody>\n",
              "</table>\n",
              "</div>\n",
              "      <button class=\"colab-df-convert\" onclick=\"convertToInteractive('df-8a07d37b-60a8-460f-911c-804b24f265cf')\"\n",
              "              title=\"Convert this dataframe to an interactive table.\"\n",
              "              style=\"display:none;\">\n",
              "        \n",
              "  <svg xmlns=\"http://www.w3.org/2000/svg\" height=\"24px\"viewBox=\"0 0 24 24\"\n",
              "       width=\"24px\">\n",
              "    <path d=\"M0 0h24v24H0V0z\" fill=\"none\"/>\n",
              "    <path d=\"M18.56 5.44l.94 2.06.94-2.06 2.06-.94-2.06-.94-.94-2.06-.94 2.06-2.06.94zm-11 1L8.5 8.5l.94-2.06 2.06-.94-2.06-.94L8.5 2.5l-.94 2.06-2.06.94zm10 10l.94 2.06.94-2.06 2.06-.94-2.06-.94-.94-2.06-.94 2.06-2.06.94z\"/><path d=\"M17.41 7.96l-1.37-1.37c-.4-.4-.92-.59-1.43-.59-.52 0-1.04.2-1.43.59L10.3 9.45l-7.72 7.72c-.78.78-.78 2.05 0 2.83L4 21.41c.39.39.9.59 1.41.59.51 0 1.02-.2 1.41-.59l7.78-7.78 2.81-2.81c.8-.78.8-2.07 0-2.86zM5.41 20L4 18.59l7.72-7.72 1.47 1.35L5.41 20z\"/>\n",
              "  </svg>\n",
              "      </button>\n",
              "      \n",
              "  <style>\n",
              "    .colab-df-container {\n",
              "      display:flex;\n",
              "      flex-wrap:wrap;\n",
              "      gap: 12px;\n",
              "    }\n",
              "\n",
              "    .colab-df-convert {\n",
              "      background-color: #E8F0FE;\n",
              "      border: none;\n",
              "      border-radius: 50%;\n",
              "      cursor: pointer;\n",
              "      display: none;\n",
              "      fill: #1967D2;\n",
              "      height: 32px;\n",
              "      padding: 0 0 0 0;\n",
              "      width: 32px;\n",
              "    }\n",
              "\n",
              "    .colab-df-convert:hover {\n",
              "      background-color: #E2EBFA;\n",
              "      box-shadow: 0px 1px 2px rgba(60, 64, 67, 0.3), 0px 1px 3px 1px rgba(60, 64, 67, 0.15);\n",
              "      fill: #174EA6;\n",
              "    }\n",
              "\n",
              "    [theme=dark] .colab-df-convert {\n",
              "      background-color: #3B4455;\n",
              "      fill: #D2E3FC;\n",
              "    }\n",
              "\n",
              "    [theme=dark] .colab-df-convert:hover {\n",
              "      background-color: #434B5C;\n",
              "      box-shadow: 0px 1px 3px 1px rgba(0, 0, 0, 0.15);\n",
              "      filter: drop-shadow(0px 1px 2px rgba(0, 0, 0, 0.3));\n",
              "      fill: #FFFFFF;\n",
              "    }\n",
              "  </style>\n",
              "\n",
              "      <script>\n",
              "        const buttonEl =\n",
              "          document.querySelector('#df-8a07d37b-60a8-460f-911c-804b24f265cf button.colab-df-convert');\n",
              "        buttonEl.style.display =\n",
              "          google.colab.kernel.accessAllowed ? 'block' : 'none';\n",
              "\n",
              "        async function convertToInteractive(key) {\n",
              "          const element = document.querySelector('#df-8a07d37b-60a8-460f-911c-804b24f265cf');\n",
              "          const dataTable =\n",
              "            await google.colab.kernel.invokeFunction('convertToInteractive',\n",
              "                                                     [key], {});\n",
              "          if (!dataTable) return;\n",
              "\n",
              "          const docLinkHtml = 'Like what you see? Visit the ' +\n",
              "            '<a target=\"_blank\" href=https://colab.research.google.com/notebooks/data_table.ipynb>data table notebook</a>'\n",
              "            + ' to learn more about interactive tables.';\n",
              "          element.innerHTML = '';\n",
              "          dataTable['output_type'] = 'display_data';\n",
              "          await google.colab.output.renderOutput(dataTable, element);\n",
              "          const docLink = document.createElement('div');\n",
              "          docLink.innerHTML = docLinkHtml;\n",
              "          element.appendChild(docLink);\n",
              "        }\n",
              "      </script>\n",
              "    </div>\n",
              "  </div>\n",
              "  "
            ],
            "text/plain": [
              "   PROGRAMA  SEMESTRE PROMEDIO  APRUEBA\n",
              "0      12.0       6.0     4.11      1.0\n",
              "1       5.0       7.0     3.82      1.0\n",
              "2       4.0       6.0      4.2      1.0\n",
              "3      12.0       5.0     3.74      1.0\n",
              "4      10.0       2.0     3.72      1.0"
            ]
          },
          "execution_count": 17,
          "metadata": {},
          "output_type": "execute_result"
        }
      ],
      "source": [
        "df.head(5)"
      ]
    },
    {
      "cell_type": "code",
      "execution_count": 18,
      "id": "5e4f1335",
      "metadata": {
        "id": "5e4f1335"
      },
      "outputs": [],
      "source": [
        "df['PROGRAMA']=df['PROGRAMA'].astype('int64')\n",
        "df['SEMESTRE']=df['SEMESTRE'].astype('int64')\n",
        "df['PROMEDIO']=df['PROMEDIO'].astype('float64')\n",
        "df['APRUEBA']=df['APRUEBA'].astype('int64')"
      ]
    },
    {
      "cell_type": "code",
      "execution_count": 19,
      "id": "92eff70d",
      "metadata": {
        "colab": {
          "base_uri": "https://localhost:8080/"
        },
        "id": "92eff70d",
        "outputId": "7f5eafec-77c3-42ac-f59a-56166e2fa026"
      },
      "outputs": [
        {
          "data": {
            "text/plain": [
              "PROGRAMA      int64\n",
              "SEMESTRE      int64\n",
              "PROMEDIO    float64\n",
              "APRUEBA       int64\n",
              "dtype: object"
            ]
          },
          "execution_count": 19,
          "metadata": {},
          "output_type": "execute_result"
        }
      ],
      "source": [
        "df.dtypes"
      ]
    },
    {
      "cell_type": "code",
      "execution_count": 20,
      "id": "cb58821c",
      "metadata": {
        "colab": {
          "base_uri": "https://localhost:8080/",
          "height": 423
        },
        "id": "cb58821c",
        "outputId": "53347796-96bd-4982-9c3c-a45873614016"
      },
      "outputs": [
        {
          "data": {
            "text/html": [
              "\n",
              "  <div id=\"df-c4b93092-d338-476b-bb77-96498bba64c3\">\n",
              "    <div class=\"colab-df-container\">\n",
              "      <div>\n",
              "<style scoped>\n",
              "    .dataframe tbody tr th:only-of-type {\n",
              "        vertical-align: middle;\n",
              "    }\n",
              "\n",
              "    .dataframe tbody tr th {\n",
              "        vertical-align: top;\n",
              "    }\n",
              "\n",
              "    .dataframe thead th {\n",
              "        text-align: right;\n",
              "    }\n",
              "</style>\n",
              "<table border=\"1\" class=\"dataframe\">\n",
              "  <thead>\n",
              "    <tr style=\"text-align: right;\">\n",
              "      <th></th>\n",
              "      <th>PROGRAMA</th>\n",
              "      <th>SEMESTRE</th>\n",
              "      <th>PROMEDIO</th>\n",
              "      <th>APRUEBA</th>\n",
              "    </tr>\n",
              "  </thead>\n",
              "  <tbody>\n",
              "    <tr>\n",
              "      <th>0</th>\n",
              "      <td>12</td>\n",
              "      <td>6</td>\n",
              "      <td>4.11</td>\n",
              "      <td>1</td>\n",
              "    </tr>\n",
              "    <tr>\n",
              "      <th>1</th>\n",
              "      <td>5</td>\n",
              "      <td>7</td>\n",
              "      <td>3.82</td>\n",
              "      <td>1</td>\n",
              "    </tr>\n",
              "    <tr>\n",
              "      <th>2</th>\n",
              "      <td>4</td>\n",
              "      <td>6</td>\n",
              "      <td>4.20</td>\n",
              "      <td>1</td>\n",
              "    </tr>\n",
              "    <tr>\n",
              "      <th>3</th>\n",
              "      <td>12</td>\n",
              "      <td>5</td>\n",
              "      <td>3.74</td>\n",
              "      <td>1</td>\n",
              "    </tr>\n",
              "    <tr>\n",
              "      <th>4</th>\n",
              "      <td>10</td>\n",
              "      <td>2</td>\n",
              "      <td>3.72</td>\n",
              "      <td>1</td>\n",
              "    </tr>\n",
              "    <tr>\n",
              "      <th>...</th>\n",
              "      <td>...</td>\n",
              "      <td>...</td>\n",
              "      <td>...</td>\n",
              "      <td>...</td>\n",
              "    </tr>\n",
              "    <tr>\n",
              "      <th>670</th>\n",
              "      <td>0</td>\n",
              "      <td>4</td>\n",
              "      <td>2.33</td>\n",
              "      <td>0</td>\n",
              "    </tr>\n",
              "    <tr>\n",
              "      <th>671</th>\n",
              "      <td>5</td>\n",
              "      <td>10</td>\n",
              "      <td>2.18</td>\n",
              "      <td>0</td>\n",
              "    </tr>\n",
              "    <tr>\n",
              "      <th>672</th>\n",
              "      <td>4</td>\n",
              "      <td>1</td>\n",
              "      <td>0.13</td>\n",
              "      <td>0</td>\n",
              "    </tr>\n",
              "    <tr>\n",
              "      <th>673</th>\n",
              "      <td>5</td>\n",
              "      <td>1</td>\n",
              "      <td>2.70</td>\n",
              "      <td>0</td>\n",
              "    </tr>\n",
              "    <tr>\n",
              "      <th>674</th>\n",
              "      <td>12</td>\n",
              "      <td>6</td>\n",
              "      <td>2.86</td>\n",
              "      <td>0</td>\n",
              "    </tr>\n",
              "  </tbody>\n",
              "</table>\n",
              "<p>673 rows × 4 columns</p>\n",
              "</div>\n",
              "      <button class=\"colab-df-convert\" onclick=\"convertToInteractive('df-c4b93092-d338-476b-bb77-96498bba64c3')\"\n",
              "              title=\"Convert this dataframe to an interactive table.\"\n",
              "              style=\"display:none;\">\n",
              "        \n",
              "  <svg xmlns=\"http://www.w3.org/2000/svg\" height=\"24px\"viewBox=\"0 0 24 24\"\n",
              "       width=\"24px\">\n",
              "    <path d=\"M0 0h24v24H0V0z\" fill=\"none\"/>\n",
              "    <path d=\"M18.56 5.44l.94 2.06.94-2.06 2.06-.94-2.06-.94-.94-2.06-.94 2.06-2.06.94zm-11 1L8.5 8.5l.94-2.06 2.06-.94-2.06-.94L8.5 2.5l-.94 2.06-2.06.94zm10 10l.94 2.06.94-2.06 2.06-.94-2.06-.94-.94-2.06-.94 2.06-2.06.94z\"/><path d=\"M17.41 7.96l-1.37-1.37c-.4-.4-.92-.59-1.43-.59-.52 0-1.04.2-1.43.59L10.3 9.45l-7.72 7.72c-.78.78-.78 2.05 0 2.83L4 21.41c.39.39.9.59 1.41.59.51 0 1.02-.2 1.41-.59l7.78-7.78 2.81-2.81c.8-.78.8-2.07 0-2.86zM5.41 20L4 18.59l7.72-7.72 1.47 1.35L5.41 20z\"/>\n",
              "  </svg>\n",
              "      </button>\n",
              "      \n",
              "  <style>\n",
              "    .colab-df-container {\n",
              "      display:flex;\n",
              "      flex-wrap:wrap;\n",
              "      gap: 12px;\n",
              "    }\n",
              "\n",
              "    .colab-df-convert {\n",
              "      background-color: #E8F0FE;\n",
              "      border: none;\n",
              "      border-radius: 50%;\n",
              "      cursor: pointer;\n",
              "      display: none;\n",
              "      fill: #1967D2;\n",
              "      height: 32px;\n",
              "      padding: 0 0 0 0;\n",
              "      width: 32px;\n",
              "    }\n",
              "\n",
              "    .colab-df-convert:hover {\n",
              "      background-color: #E2EBFA;\n",
              "      box-shadow: 0px 1px 2px rgba(60, 64, 67, 0.3), 0px 1px 3px 1px rgba(60, 64, 67, 0.15);\n",
              "      fill: #174EA6;\n",
              "    }\n",
              "\n",
              "    [theme=dark] .colab-df-convert {\n",
              "      background-color: #3B4455;\n",
              "      fill: #D2E3FC;\n",
              "    }\n",
              "\n",
              "    [theme=dark] .colab-df-convert:hover {\n",
              "      background-color: #434B5C;\n",
              "      box-shadow: 0px 1px 3px 1px rgba(0, 0, 0, 0.15);\n",
              "      filter: drop-shadow(0px 1px 2px rgba(0, 0, 0, 0.3));\n",
              "      fill: #FFFFFF;\n",
              "    }\n",
              "  </style>\n",
              "\n",
              "      <script>\n",
              "        const buttonEl =\n",
              "          document.querySelector('#df-c4b93092-d338-476b-bb77-96498bba64c3 button.colab-df-convert');\n",
              "        buttonEl.style.display =\n",
              "          google.colab.kernel.accessAllowed ? 'block' : 'none';\n",
              "\n",
              "        async function convertToInteractive(key) {\n",
              "          const element = document.querySelector('#df-c4b93092-d338-476b-bb77-96498bba64c3');\n",
              "          const dataTable =\n",
              "            await google.colab.kernel.invokeFunction('convertToInteractive',\n",
              "                                                     [key], {});\n",
              "          if (!dataTable) return;\n",
              "\n",
              "          const docLinkHtml = 'Like what you see? Visit the ' +\n",
              "            '<a target=\"_blank\" href=https://colab.research.google.com/notebooks/data_table.ipynb>data table notebook</a>'\n",
              "            + ' to learn more about interactive tables.';\n",
              "          element.innerHTML = '';\n",
              "          dataTable['output_type'] = 'display_data';\n",
              "          await google.colab.output.renderOutput(dataTable, element);\n",
              "          const docLink = document.createElement('div');\n",
              "          docLink.innerHTML = docLinkHtml;\n",
              "          element.appendChild(docLink);\n",
              "        }\n",
              "      </script>\n",
              "    </div>\n",
              "  </div>\n",
              "  "
            ],
            "text/plain": [
              "     PROGRAMA  SEMESTRE  PROMEDIO  APRUEBA\n",
              "0          12         6      4.11        1\n",
              "1           5         7      3.82        1\n",
              "2           4         6      4.20        1\n",
              "3          12         5      3.74        1\n",
              "4          10         2      3.72        1\n",
              "..        ...       ...       ...      ...\n",
              "670         0         4      2.33        0\n",
              "671         5        10      2.18        0\n",
              "672         4         1      0.13        0\n",
              "673         5         1      2.70        0\n",
              "674        12         6      2.86        0\n",
              "\n",
              "[673 rows x 4 columns]"
            ]
          },
          "execution_count": 20,
          "metadata": {},
          "output_type": "execute_result"
        }
      ],
      "source": [
        "df"
      ]
    },
    {
      "cell_type": "code",
      "execution_count": 21,
      "id": "89876118",
      "metadata": {
        "colab": {
          "base_uri": "https://localhost:8080/",
          "height": 360
        },
        "id": "89876118",
        "outputId": "e65913a7-eb9d-40c4-ebd4-c6a78176545e"
      },
      "outputs": [
        {
          "data": {
            "image/png": "[encoded data removed]",
            "text/plain": [
              "<Figure size 432x288 with 2 Axes>"
            ]
          },
          "metadata": {},
          "output_type": "display_data"
        }
      ],
      "source": [
        "import seaborn as sns\n",
        "import numpy as np\n",
        "import matplotlib.pyplot as plt\n",
        "\n",
        "cols = ['PROGRAMA','SEMESTRE','PROMEDIO','APRUEBA']\n",
        "\n",
        "cm = np.corrcoef(df[cols].values.T)\n",
        "sns.set(font_scale=1.5)\n",
        "hm = sns.heatmap(cm, cbar=True, \n",
        "                annot=True,\n",
        "                square=True,\n",
        "                fmt='.2f',\n",
        "                annot_kws={'size':15},\n",
        "                yticklabels=cols,\n",
        "                xticklabels=cols                \n",
        "                )\n",
        "plt.show()"
      ]
    },
    {
      "cell_type": "code",
      "execution_count": 22,
      "id": "8234753d",
      "metadata": {
        "id": "8234753d"
      },
      "outputs": [],
      "source": [
        "X = df.iloc[:, [1,2]].values\n",
        "y = df.iloc[:, 3].values"
      ]
    },
    {
      "cell_type": "code",
      "execution_count": 23,
      "id": "f44c3f30",
      "metadata": {
        "id": "f44c3f30"
      },
      "outputs": [],
      "source": [
        "from sklearn.model_selection import train_test_split\n",
        "X_train, X_test, y_train, y_test = train_test_split(X, y, test_size = 0.2, random_state = 27, shuffle = True)"
      ]
    },
    {
      "cell_type": "code",
      "execution_count": 24,
      "id": "8f54fb6d",
      "metadata": {
        "colab": {
          "base_uri": "https://localhost:8080/"
        },
        "id": "8f54fb6d",
        "outputId": "c82057ec-c997-4d71-f0b0-d786b7e35f7e"
      },
      "outputs": [
        {
          "data": {
            "text/plain": [
              "DecisionTreeClassifier()"
            ]
          },
          "execution_count": 24,
          "metadata": {},
          "output_type": "execute_result"
        }
      ],
      "source": [
        "from sklearn.tree import DecisionTreeClassifier\n",
        "knn = DecisionTreeClassifier()\n",
        "knn.fit(X_train, y_train)"
      ]
    },
    {
      "cell_type": "code",
      "execution_count": 26,
      "id": "daa86155",
      "metadata": {
        "id": "daa86155"
      },
      "outputs": [],
      "source": [
        "y_pred = knn.predict(X_test)"
      ]
    },
    {
      "cell_type": "code",
      "execution_count": 27,
      "id": "5d33937f",
      "metadata": {
        "colab": {
          "base_uri": "https://localhost:8080/"
        },
        "id": "5d33937f",
        "outputId": "847b8f00-83b3-4ea8-d02d-b860245fda34"
      },
      "outputs": [
        {
          "name": "stdout",
          "output_type": "stream",
          "text": [
            "La exactitud del modelo es: 0.956\n"
          ]
        }
      ],
      "source": [
        "from sklearn.metrics import accuracy_score\n",
        "puntaje = round(accuracy_score(y_test, y_pred), 3)\n",
        "print('La exactitud del modelo es: {}'.format(puntaje))"
      ]
    },
    {
      "cell_type": "code",
      "execution_count": 28,
      "id": "e53a1135",
      "metadata": {
        "colab": {
          "base_uri": "https://localhost:8080/"
        },
        "id": "e53a1135",
        "outputId": "bf936809-734b-43b9-e40e-f2941a7a6429"
      },
      "outputs": [
        {
          "name": "stdout",
          "output_type": "stream",
          "text": [
            "Aprueba\n"
          ]
        }
      ],
      "source": [
        "#SEMESTRE \tPROMEDIO\n",
        "datos_prueba = [[3,4]]\n",
        "res = knn.predict(datos_prueba)\n",
        "r = res[0]\n",
        "if r==1:\n",
        "   print(\"Aprueba\")\n",
        "else:\n",
        "   print(\"No Aprueba\")"
      ]
    },
    {
      "cell_type": "code",
      "execution_count": 29,
      "id": "CEeuZFBU7jrO",
      "metadata": {
        "colab": {
          "base_uri": "https://localhost:8080/"
        },
        "id": "CEeuZFBU7jrO",
        "outputId": "42769f2d-a3e3-4f93-9aae-7213498a67ac"
      },
      "outputs": [
        {
          "name": "stdout",
          "output_type": "stream",
          "text": [
            "precision del clasificador k-nn en el conjunto de entrenamiento :0.97\n",
            "precision del clasificador k-nn en el conjunto de prueba :0.96\n"
          ]
        }
      ],
      "source": [
        "from sklearn.neighbors import KNeighborsClassifier\n",
        "\n",
        "n_neighbors = 5\n",
        "\n",
        "knn = KNeighborsClassifier(n_neighbors)\n",
        "knn.fit(X_train, y_train)\n",
        "print('precision del clasificador k-nn en el conjunto de entrenamiento :{:.2f}'\n",
        "     .format(knn.score(X_train, y_train)))\n",
        "print('precision del clasificador k-nn en el conjunto de prueba :{:.2f}'\n",
        "     .format(knn.score(X_test, y_test)))"
      ]
    },
    {
      "cell_type": "code",
      "execution_count": 30,
      "id": "ec9d0082",
      "metadata": {
        "id": "ec9d0082"
      },
      "outputs": [],
      "source": [
        "import joblib"
      ]
    },
    {
      "cell_type": "code",
      "execution_count": 31,
      "id": "4c75d78d",
      "metadata": {
        "id": "4c75d78d"
      },
      "outputs": [],
      "source": [
        "from sklearn import linear_model"
      ]
    },
    {
      "cell_type": "code",
      "execution_count": 32,
      "id": "1d922136",
      "metadata": {
        "id": "1d922136"
      },
      "outputs": [],
      "source": [
        "from sklearn.linear_model import LogisticRegression\n"
      ]
    },
    {
      "cell_type": "code",
      "execution_count": 33,
      "id": "c8071a5e",
      "metadata": {
        "colab": {
          "base_uri": "https://localhost:8080/"
        },
        "id": "c8071a5e",
        "outputId": "aedd610e-7a2e-4d9d-bb4d-784fee77a40d"
      },
      "outputs": [
        {
          "data": {
            "text/plain": [
              "LogisticRegression()"
            ]
          },
          "execution_count": 33,
          "metadata": {},
          "output_type": "execute_result"
        }
      ],
      "source": [
        "lr = LogisticRegression()\n",
        "lr.fit(X_train, y_train)"
      ]
    },
    {
      "cell_type": "code",
      "execution_count": 34,
      "id": "eec7a07d",
      "metadata": {
        "colab": {
          "base_uri": "https://localhost:8080/"
        },
        "id": "eec7a07d",
        "outputId": "63eccba8-64cf-4449-9852-0c0318e89352"
      },
      "outputs": [
        {
          "name": "stdout",
          "output_type": "stream",
          "text": [
            "La exactitud es:  0.96\n"
          ]
        }
      ],
      "source": [
        "predicciones = lr.predict(X_test)\n",
        "from sklearn.metrics import confusion_matrix, accuracy_score\n",
        "confusion_matrix(predicciones, y_test)\n",
        "print(\"La exactitud es: \", round(accuracy_score(predicciones, y_test),2))"
      ]
    },
    {
      "cell_type": "code",
      "execution_count": 35,
      "id": "f96f5452",
      "metadata": {
        "colab": {
          "base_uri": "https://localhost:8080/"
        },
        "id": "f96f5452",
        "outputId": "2873fdc1-91ba-471b-afac-c90aabb5eac1"
      },
      "outputs": [
        {
          "data": {
            "text/plain": [
              "['modelo.pkl']"
            ]
          },
          "execution_count": 35,
          "metadata": {},
          "output_type": "execute_result"
        }
      ],
      "source": [
        "joblib.dump(lr, 'modelo.pkl')"
      ]
    }
  ],
  "metadata": {
    "colab": {
      "provenance": []
    },
    "kernelspec": {
      "display_name": "Python 3 (ipykernel)",
      "language": "python",
      "name": "python3"
    },
    "language_info": {
      "codemirror_mode": {
        "name": "ipython",
        "version": 3
      },
      "file_extension": ".py",
      "mimetype": "text/x-python",
      "name": "python",
      "nbconvert_exporter": "python",
      "pygments_lexer": "ipython3",
      "version": "3.9.12"
    }
  },
  "nbformat": 4,
  "nbformat_minor": 5
}
